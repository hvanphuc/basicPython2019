{
 "cells": [
  {
   "cell_type": "code",
   "execution_count": null,
   "metadata": {},
   "outputs": [],
   "source": [
    "import sys   # import module sys\n",
    "\n",
    "usage='pythonscript.py <inputfile> <outputfile>'\n",
    "\n",
    "numberArgv=len(sys.argv)  # số tham số truyền vào\n",
    "listArgv=sys.argv   # list các tham số truyền vào\n",
    "\n",
    "if numberArgv < 3:\n",
    "    print (usage)\n",
    "else:\n",
    "    print('Số tham số là:', numberArgv)\n",
    "    print('Các tham số là:', listArgv)\n",
    "    print('Tham số đầu tiên là:', listArgv[0])\n",
    "    print('Tham số thứ 2 là:', listArgv[1])\n",
    "    print('Tham số thứ 3 là:', listArgv[2])\n",
    "    print('-----------------------------')\n",
    "    main()\n",
    "\n",
    "def main():\n",
    "        inputfile=open(sys.argv[1], r ) # mở file và cấp quyền được đọc\n",
    "        inputContent=inputfile.read() # đọc nội dung của file input\n",
    "        print(outputContent)\n",
    "        \n",
    "        outputfile=open(sys.argv[2], w) # mở file và cấp quyền được ghi, nếu file chưa tồn tại, tạo file mới\n",
    "        outputContent=outputfile.write(inputContent)\n",
    "        print(outputContent)"
   ]
  }
 ],
 "metadata": {
  "kernelspec": {
   "display_name": "Python 3",
   "language": "python",
   "name": "python3"
  },
  "language_info": {
   "codemirror_mode": {
    "name": "ipython",
    "version": 3
   },
   "file_extension": ".py",
   "mimetype": "text/x-python",
   "name": "python",
   "nbconvert_exporter": "python",
   "pygments_lexer": "ipython3",
   "version": "3.7.0"
  }
 },
 "nbformat": 4,
 "nbformat_minor": 2
}
